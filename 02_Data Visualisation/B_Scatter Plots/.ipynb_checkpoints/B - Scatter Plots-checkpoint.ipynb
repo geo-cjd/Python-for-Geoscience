{
 "cells": [
  {
   "cell_type": "markdown",
   "id": "7f69e4b6-206e-4383-9273-ab062bac0e6f",
   "metadata": {},
   "source": [
    "# *Python for Geoscience*\n",
    "\n",
    "## 02 - Data Visualisation\n",
    "### B - Scatter Plots for Visualising Porosity-Permeability Data\n",
    "\n",
    "Author: Connor Doyle\n",
    "\n",
    "Purpose: Creating interactive and static scatter plots to plot X-Y data.\n",
    "\n",
    "Examples/Use Case: Visualising the distribution of porosity-permeability data from core analysis."
   ]
  },
  {
   "cell_type": "markdown",
   "id": "c10bf898-c34b-46da-a9e3-ac71c496ddf6",
   "metadata": {},
   "source": [
    "## Import libraries"
   ]
  },
  {
   "cell_type": "code",
   "execution_count": 1,
   "id": "8be28cf4-47a5-4b78-83de-84c37d602e1f",
   "metadata": {},
   "outputs": [],
   "source": [
    "import pandas as pd\n",
    "import plotly.graph_objects as go\n",
    "import plotly.express as px"
   ]
  },
  {
   "cell_type": "markdown",
   "id": "06172a94-fe33-455f-8424-83679249ae90",
   "metadata": {},
   "source": [
    "## Loading data to a dataframe "
   ]
  },
  {
   "cell_type": "markdown",
   "id": "0268b515-d7e3-4c7b-a418-57534601d53c",
   "metadata": {},
   "source": [
    "Data are loaded here from either an Excel or csv file. The conditional statements below are written such that the pandas read function used will change depending on the filetype."
   ]
  },
  {
   "cell_type": "code",
   "execution_count": 2,
   "id": "72cdd564-6b24-4a9a-ba37-4d81a8242b94",
   "metadata": {},
   "outputs": [
    {
     "name": "stdout",
     "output_type": "stream",
     "text": [
      "Data.xlsx loaded from Excel\n"
     ]
    }
   ],
   "source": [
    "### Filepath Definition ###\n",
    "petro_data = 'Data.xlsx'\n",
    "\n",
    "### Filetype Handling ###\n",
    "\n",
    "# If statement for dealing with multiple filetypes.\n",
    "\n",
    "# petro data\n",
    "if petro_data.endswith('csv'):\n",
    "    print(f'{petro_data} loaded from csv')\n",
    "    petro_df = pd.read_csv(f'{petro_data}')\n",
    "elif petro_data.endswith('xlsx'):\n",
    "    print(f'{petro_data} loaded from Excel')\n",
    "    petro_df = pd.read_excel(f'{petro_data}')"
   ]
  },
  {
   "cell_type": "markdown",
   "id": "03a7d0ce-c72e-45c3-a1fd-4a546e9ec33e",
   "metadata": {},
   "source": [
    "## Display column names for use in input"
   ]
  },
  {
   "cell_type": "markdown",
   "id": "8085d38d-f0d9-4711-a63c-95d7040cc960",
   "metadata": {},
   "source": [
    "Let's take a quick look at what our data looks like, and what columns we can use."
   ]
  },
  {
   "cell_type": "markdown",
   "id": "f641a71c-d9c5-4c31-8431-13ce76099ee9",
   "metadata": {},
   "source": [
    "Placeholder"
   ]
  },
  {
   "cell_type": "markdown",
   "id": "90f931ff-188e-4069-abb3-505b743a46fb",
   "metadata": {},
   "source": [
    "## Plot Scatter"
   ]
  },
  {
   "cell_type": "markdown",
   "id": "2ba193e9-72cf-4e93-9c43-f30f3b45010c",
   "metadata": {},
   "source": [
    "Placeholder"
   ]
  },
  {
   "cell_type": "code",
   "execution_count": null,
   "id": "481d832f-11f5-4276-bd90-373e4a3384c4",
   "metadata": {},
   "outputs": [],
   "source": []
  }
 ],
 "metadata": {
  "kernelspec": {
   "display_name": "Python 3 (ipykernel)",
   "language": "python",
   "name": "python3"
  },
  "language_info": {
   "codemirror_mode": {
    "name": "ipython",
    "version": 3
   },
   "file_extension": ".py",
   "mimetype": "text/x-python",
   "name": "python",
   "nbconvert_exporter": "python",
   "pygments_lexer": "ipython3",
   "version": "3.12.0"
  }
 },
 "nbformat": 4,
 "nbformat_minor": 5
}
