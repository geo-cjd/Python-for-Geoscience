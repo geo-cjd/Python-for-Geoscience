{
 "cells": [
  {
   "cell_type": "markdown",
   "id": "7f69e4b6-206e-4383-9273-ab062bac0e6f",
   "metadata": {},
   "source": [
    "# *Python for Geoscience*\n",
    "\n",
    "## 02 - Data Visualisation\n",
    "### C - Ternary Diagrams for Rock Composition\n",
    "\n",
    "Author: Connor Doyle\n",
    "\n",
    "Purpose: Creating interactive and static ternary plots to visualise mineralogical assemblages and assign them to a rock composition.\n",
    "\n",
    "Examples/Use Case: Assigning rock types to petrographic data (e.g. quartz arenite, sub-lithic arenite)."
   ]
  },
  {
   "cell_type": "markdown",
   "id": "c10bf898-c34b-46da-a9e3-ac71c496ddf6",
   "metadata": {},
   "source": [
    "## Import libraries"
   ]
  },
  {
   "cell_type": "code",
   "execution_count": 1,
   "id": "8be28cf4-47a5-4b78-83de-84c37d602e1f",
   "metadata": {},
   "outputs": [
    {
     "ename": "ModuleNotFoundError",
     "evalue": "No module named 'plotly'",
     "output_type": "error",
     "traceback": [
      "\u001b[1;31m---------------------------------------------------------------------------\u001b[0m",
      "\u001b[1;31mModuleNotFoundError\u001b[0m                       Traceback (most recent call last)",
      "Cell \u001b[1;32mIn[1], line 2\u001b[0m\n\u001b[0;32m      1\u001b[0m \u001b[38;5;28;01mimport\u001b[39;00m \u001b[38;5;21;01mpandas\u001b[39;00m \u001b[38;5;28;01mas\u001b[39;00m \u001b[38;5;21;01mpd\u001b[39;00m\n\u001b[1;32m----> 2\u001b[0m \u001b[38;5;28;01mimport\u001b[39;00m \u001b[38;5;21;01mplotly\u001b[39;00m\u001b[38;5;21;01m.\u001b[39;00m\u001b[38;5;21;01mexpress\u001b[39;00m \u001b[38;5;28;01mas\u001b[39;00m \u001b[38;5;21;01mpx\u001b[39;00m\n",
      "\u001b[1;31mModuleNotFoundError\u001b[0m: No module named 'plotly'"
     ]
    }
   ],
   "source": [
    "import pandas as pd\n",
    "import plotly.express as px"
   ]
  },
  {
   "cell_type": "markdown",
   "id": "06172a94-fe33-455f-8424-83679249ae90",
   "metadata": {},
   "source": [
    "## Loading data to a dataframe "
   ]
  },
  {
   "cell_type": "markdown",
   "id": "0268b515-d7e3-4c7b-a418-57534601d53c",
   "metadata": {},
   "source": [
    "Data are loaded here from either an Excel or csv file. The conditional statements below are written such that the pandas read function used will change depending on the filetype."
   ]
  },
  {
   "cell_type": "code",
   "execution_count": null,
   "id": "72cdd564-6b24-4a9a-ba37-4d81a8242b94",
   "metadata": {},
   "outputs": [],
   "source": [
    "### Filepath Definition ###\n",
    "petro_data = 'Data.xlsx'\n",
    "\n",
    "### Filetype Handling ###\n",
    "\n",
    "# If statement for dealing with multiple filetypes.\n",
    "\n",
    "# petro data\n",
    "if petro_data.endswith('csv'):\n",
    "    print(f'{petro_data} loaded from csv')\n",
    "    petro_df = pd.read_csv(f'{petro_data}')\n",
    "elif petro_data.endswith('xlsx'):\n",
    "    print(f'{petro_data} loaded from Excel')\n",
    "    petro_df = pd.read_excel(f'{petro_data}')"
   ]
  },
  {
   "cell_type": "markdown",
   "id": "361d65bb-bc60-44fa-8806-15ed7ee876f6",
   "metadata": {},
   "source": [
    "## Display column names for use in input"
   ]
  },
  {
   "cell_type": "code",
   "execution_count": null,
   "id": "e5cef849-f606-4298-822a-6431df340418",
   "metadata": {},
   "outputs": [],
   "source": [
    "# Print statement to allow user to see column names and match nomenclature\n",
    "print('Data Columns')\n",
    "for col in petro_df.columns:\n",
    "    print(col)"
   ]
  },
  {
   "cell_type": "markdown",
   "id": "90f931ff-188e-4069-abb3-505b743a46fb",
   "metadata": {},
   "source": [
    "## Index Data"
   ]
  },
  {
   "cell_type": "code",
   "execution_count": null,
   "id": "3b4070c4-0738-4897-88e2-7ec7b45ac0b7",
   "metadata": {},
   "outputs": [],
   "source": [
    "fig=go.Figure(go.Scatterternary(a= [0.33,  0.6, 0, 0.33],\n",
    "                                b= [0.33, 0, 0.3, 0.33],\n",
    "                                c= [1-0.66, 0.4, 0.7, 1-0.66], \n",
    "                                mode='lines',\n",
    "                                line_color='black', #or 'orange' #or a color code\n",
    "                                line_width=0.5,\n",
    "                                fill='toself',\n",
    "                                fillcolor='orange'     #'#0000ff',\n",
    "                                ))\n",
    "    "
   ]
  },
  {
   "cell_type": "code",
   "execution_count": 2,
   "id": "3338a5f3-9385-4be2-90b5-f803babd19e3",
   "metadata": {},
   "outputs": [
    {
     "name": "stdout",
     "output_type": "stream",
     "text": [
      "Collecting plotly\n",
      "  Downloading plotly-5.24.1-py3-none-any.whl.metadata (7.3 kB)\n",
      "Collecting tenacity>=6.2.0 (from plotly)\n",
      "  Downloading tenacity-9.0.0-py3-none-any.whl.metadata (1.2 kB)\n",
      "Requirement already satisfied: packaging in c:\\python\\environments\\dataanalysis\\lib\\site-packages (from plotly) (24.2)\n",
      "Downloading plotly-5.24.1-py3-none-any.whl (19.1 MB)\n",
      "   ---------------------------------------- 0.0/19.1 MB ? eta -:--:--\n",
      "   --------------- ------------------------ 7.3/19.1 MB 37.8 MB/s eta 0:00:01\n",
      "   ------------------------------- -------- 15.2/19.1 MB 38.3 MB/s eta 0:00:01\n",
      "   ---------------------------------------- 19.1/19.1 MB 34.4 MB/s eta 0:00:00\n",
      "Downloading tenacity-9.0.0-py3-none-any.whl (28 kB)\n",
      "Installing collected packages: tenacity, plotly\n",
      "Successfully installed plotly-5.24.1 tenacity-9.0.0\n"
     ]
    }
   ],
   "source": [
    "!pip install plotly"
   ]
  },
  {
   "cell_type": "code",
   "execution_count": null,
   "id": "c99396d2-3789-477d-9301-ecfabe373e6b",
   "metadata": {},
   "outputs": [],
   "source": []
  }
 ],
 "metadata": {
  "kernelspec": {
   "display_name": "Python 3 (ipykernel)",
   "language": "python",
   "name": "python3"
  },
  "language_info": {
   "codemirror_mode": {
    "name": "ipython",
    "version": 3
   },
   "file_extension": ".py",
   "mimetype": "text/x-python",
   "name": "python",
   "nbconvert_exporter": "python",
   "pygments_lexer": "ipython3",
   "version": "3.12.0"
  }
 },
 "nbformat": 4,
 "nbformat_minor": 5
}
