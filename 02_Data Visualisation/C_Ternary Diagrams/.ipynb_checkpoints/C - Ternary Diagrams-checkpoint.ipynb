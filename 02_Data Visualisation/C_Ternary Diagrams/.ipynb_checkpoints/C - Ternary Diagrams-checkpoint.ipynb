{
 "cells": [
  {
   "cell_type": "markdown",
   "id": "7f69e4b6-206e-4383-9273-ab062bac0e6f",
   "metadata": {},
   "source": [
    "# *Python for Geoscience*\n",
    "\n",
    "## 02 - Data Visualisation\n",
    "### C - Ternary Diagrams for Rock Composition\n",
    "\n",
    "Author: Connor Doyle\n",
    "\n",
    "Purpose: Creating interactive and static ternary plots to visualise mineralogical assemblages and assign them to a rock composition.\n",
    "\n",
    "Examples/Use Case: Assigning rock types to petrographic data (e.g. quartz arenite, sub-lithic arenite)."
   ]
  },
  {
   "cell_type": "markdown",
   "id": "c10bf898-c34b-46da-a9e3-ac71c496ddf6",
   "metadata": {},
   "source": [
    "## Import libraries"
   ]
  },
  {
   "cell_type": "code",
   "execution_count": null,
   "id": "8be28cf4-47a5-4b78-83de-84c37d602e1f",
   "metadata": {},
   "outputs": [],
   "source": [
    "import pandas as pd\n",
    "import plotly.express as px"
   ]
  },
  {
   "cell_type": "markdown",
   "id": "06172a94-fe33-455f-8424-83679249ae90",
   "metadata": {},
   "source": [
    "## Loading data to a dataframe "
   ]
  },
  {
   "cell_type": "markdown",
   "id": "0268b515-d7e3-4c7b-a418-57534601d53c",
   "metadata": {},
   "source": [
    "Data are loaded here from either an Excel or csv file. The conditional statements below are written such that the pandas read function used will change depending on the filetype."
   ]
  },
  {
   "cell_type": "code",
   "execution_count": null,
   "id": "72cdd564-6b24-4a9a-ba37-4d81a8242b94",
   "metadata": {},
   "outputs": [],
   "source": [
    "### Filepath Definition ###\n",
    "petro_data = 'Data.xlsx'\n",
    "\n",
    "### Filetype Handling ###\n",
    "\n",
    "# If statement for dealing with multiple filetypes.\n",
    "\n",
    "# Range data\n",
    "if range_data.endswith('csv'):\n",
    "    print(f'{range_data} loaded from csv')\n",
    "    range_df = pd.read_csv(f'{range_data}')\n",
    "elif range_data.endswith('xlsx'):\n",
    "    print(f'{range_data} loaded from Excel')\n",
    "    range_df = pd.read_excel(f'{range_data}')"
   ]
  },
  {
   "cell_type": "markdown",
   "id": "361d65bb-bc60-44fa-8806-15ed7ee876f6",
   "metadata": {},
   "source": [
    "## Display column names for use in input"
   ]
  },
  {
   "cell_type": "code",
   "execution_count": null,
   "id": "e5cef849-f606-4298-822a-6431df340418",
   "metadata": {},
   "outputs": [],
   "source": [
    "# Print statement to allow user to see column names and match nomenclature\n",
    "print('Depth Columns')\n",
    "for col in depth_df.columns:\n",
    "    print(col)\n",
    "print('Range Columns')\n",
    "for col in range_df.columns:\n",
    "    print(col)"
   ]
  },
  {
   "cell_type": "markdown",
   "id": "90f931ff-188e-4069-abb3-505b743a46fb",
   "metadata": {},
   "source": [
    "## Index Data"
   ]
  },
  {
   "cell_type": "code",
   "execution_count": null,
   "id": "8e00e265-b5c1-45bb-b9df-cda9b927862b",
   "metadata": {},
   "outputs": [],
   "source": [
    "# Function to assign zones based on a top and base depth\n",
    "def assign_zone(depth, site, range_df):\n",
    "    \n",
    "    site_zone_depths = range_df[range_df['Site'] == site] # Filter only on rows for each site in ranges_df\n",
    "    \n",
    "    for _, row in site_zone_depths.iterrows(): # For each row in site_zone_depths\n",
    "        if row['Top'] <= depth <= row['Base']:\n",
    "            return row['Zone'] # If found, return the zone\n",
    "\n",
    "zones = [] # Empty list to store zones for later output\n",
    "\n",
    "for _, row in depth_df.iterrows(): # For all rows in our depth dataframe\n",
    "    zone = assign_zone(row['Depth'], row['Site'], range_df)\n",
    "    zones.append(zone)\n",
    "\n",
    "depth_df['Zone'] = zones # Create new column in depth dataframe\n",
    "\n",
    "depth_df.to_excel(r'Assigned_Zones.xlsx', index=False) # Output to excel\n",
    "\n",
    "# print(depth_df) # Optional print step to check outputs\n"
   ]
  },
  {
   "cell_type": "code",
   "execution_count": null,
   "id": "3b4070c4-0738-4897-88e2-7ec7b45ac0b7",
   "metadata": {},
   "outputs": [],
   "source": []
  }
 ],
 "metadata": {
  "kernelspec": {
   "display_name": "Python 3 (ipykernel)",
   "language": "python",
   "name": "python3"
  },
  "language_info": {
   "codemirror_mode": {
    "name": "ipython",
    "version": 3
   },
   "file_extension": ".py",
   "mimetype": "text/x-python",
   "name": "python",
   "nbconvert_exporter": "python",
   "pygments_lexer": "ipython3",
   "version": "3.12.0"
  }
 },
 "nbformat": 4,
 "nbformat_minor": 5
}
