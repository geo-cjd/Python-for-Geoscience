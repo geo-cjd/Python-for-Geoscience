{
 "cells": [
  {
   "cell_type": "markdown",
   "id": "7f69e4b6-206e-4383-9273-ab062bac0e6f",
   "metadata": {},
   "source": [
    "# *Python for Geoscience*\n",
    "\n",
    "## 01 - Data Management\n",
    "\n",
    "### A - Indexing & Binning Data\n",
    "\n",
    "Author: Connor Doyle\n",
    "\n",
    "Purpose: Indexing data according to pre-defined ranges.\n",
    "\n",
    "Examples/Use Case: Assigning the names of formations to depths from a well.\n",
    "\n",
    "Geological data is often associated with depth values - in many cases, this geological data can be assigned to stratigraphic hierarchies. For example, we may have a core analysis dataset from a range of subsurface depths, a set of drill-stem tests at various intervals to test for flow, or even the location of casing points associated with the well while it was drilled. However, once we have a set of a stratigraphic tops, whether identified from purely rock composition or from biostratigraphical analyses, we often need to place other data within the context of this stratigraphy. For example, we may have a core dataset that consists only of Depth, CPOR (Porosity), and KLH (Horizontal Klinkenberg Permeability) - but we need to know which formation they came from!\n",
    "\n",
    "This code is therefore a simple way of assigning a 'dictionary' of top and base zones from our stratigraphic column, and subsequently applying that dictionary to our point depths associated with our core dataset. This can be particularly useful when plotting core analysis data within a scatter plot (see 02 - B - Scatter Plots in this Python for Geoscience series for more info on how to do this), as we can then colour the different points by their formation.\n",
    "\n",
    "First, let's get started with importing the only library we need for this script - pandas!"
   ]
  },
  {
   "cell_type": "markdown",
   "id": "c10bf898-c34b-46da-a9e3-ac71c496ddf6",
   "metadata": {},
   "source": [
    "## Import libraries"
   ]
  },
  {
   "cell_type": "code",
   "execution_count": 1,
   "id": "8be28cf4-47a5-4b78-83de-84c37d602e1f",
   "metadata": {},
   "outputs": [],
   "source": [
    "import pandas as pd"
   ]
  },
  {
   "cell_type": "markdown",
   "id": "06172a94-fe33-455f-8424-83679249ae90",
   "metadata": {},
   "source": [
    "## Loading data to a dataframe "
   ]
  },
  {
   "cell_type": "markdown",
   "id": "0268b515-d7e3-4c7b-a418-57534601d53c",
   "metadata": {},
   "source": [
    "Data are loaded here from either an Excel or csv file. The conditional statements below are written such that the pandas read function used will change depending on the filetype."
   ]
  },
  {
   "cell_type": "code",
   "execution_count": 4,
   "id": "72cdd564-6b24-4a9a-ba37-4d81a8242b94",
   "metadata": {},
   "outputs": [
    {
     "name": "stdout",
     "output_type": "stream",
     "text": [
      "Dictionary.xlsx loaded from Excel\n",
      "Data.xlsx loaded from Excel\n"
     ]
    }
   ],
   "source": [
    "### Filepath Definition ###\n",
    "depth_data = 'Data.xlsx'\n",
    "range_data = 'Dictionary.xlsx'\n",
    "\n",
    "### Filetype Handling ###\n",
    "\n",
    "# If statement for dealing with multiple filetypes. \n",
    "\n",
    "# Range data\n",
    "if range_data.endswith('csv'):\n",
    "    print(f'{range_data} loaded from csv')\n",
    "    range_df = pd.read_csv(f'{range_data}')\n",
    "elif range_data.endswith('xlsx'):\n",
    "    print(f'{range_data} loaded from Excel')\n",
    "    range_df = pd.read_excel(f'{range_data}')\n",
    "    \n",
    "# Depth data\n",
    "if depth_data.endswith('csv'):\n",
    "    print(f'{depth_data} loaded from csv')\n",
    "    depth_df = pd.read_csv(f'{depth_data}')\n",
    "elif depth_data.endswith('xlsx'):\n",
    "    print(f'{depth_data} loaded from Excel')\n",
    "    depth_df = pd.read_excel(f'{depth_data}')"
   ]
  },
  {
   "cell_type": "markdown",
   "id": "361d65bb-bc60-44fa-8806-15ed7ee876f6",
   "metadata": {},
   "source": [
    "## Display column names for use in input"
   ]
  },
  {
   "cell_type": "markdown",
   "id": "bfe82fcc-a5de-4a86-a5c0-bc83723ecf59",
   "metadata": {},
   "source": [
    "Let's take a quick look at what our data looks like, and what columns we can use."
   ]
  },
  {
   "cell_type": "markdown",
   "id": "607d9031-2a68-444a-9879-9463e60be354",
   "metadata": {},
   "source": [
    "Our depth dataframe contains two columns - one for a site, and one for the depth of that site. But we want to know what zone it's related to - so let's take a look at that too!"
   ]
  },
  {
   "cell_type": "code",
   "execution_count": 5,
   "id": "e5cef849-f606-4298-822a-6431df340418",
   "metadata": {},
   "outputs": [
    {
     "data": {
      "text/html": [
       "<div>\n",
       "<style scoped>\n",
       "    .dataframe tbody tr th:only-of-type {\n",
       "        vertical-align: middle;\n",
       "    }\n",
       "\n",
       "    .dataframe tbody tr th {\n",
       "        vertical-align: top;\n",
       "    }\n",
       "\n",
       "    .dataframe thead th {\n",
       "        text-align: right;\n",
       "    }\n",
       "</style>\n",
       "<table border=\"1\" class=\"dataframe\">\n",
       "  <thead>\n",
       "    <tr style=\"text-align: right;\">\n",
       "      <th></th>\n",
       "      <th>Site</th>\n",
       "      <th>Depth</th>\n",
       "    </tr>\n",
       "  </thead>\n",
       "  <tbody>\n",
       "    <tr>\n",
       "      <th>0</th>\n",
       "      <td>A</td>\n",
       "      <td>1</td>\n",
       "    </tr>\n",
       "    <tr>\n",
       "      <th>1</th>\n",
       "      <td>A</td>\n",
       "      <td>3</td>\n",
       "    </tr>\n",
       "    <tr>\n",
       "      <th>2</th>\n",
       "      <td>A</td>\n",
       "      <td>5</td>\n",
       "    </tr>\n",
       "    <tr>\n",
       "      <th>3</th>\n",
       "      <td>A</td>\n",
       "      <td>61</td>\n",
       "    </tr>\n",
       "    <tr>\n",
       "      <th>4</th>\n",
       "      <td>A</td>\n",
       "      <td>23</td>\n",
       "    </tr>\n",
       "  </tbody>\n",
       "</table>\n",
       "</div>"
      ],
      "text/plain": [
       "  Site  Depth\n",
       "0    A      1\n",
       "1    A      3\n",
       "2    A      5\n",
       "3    A     61\n",
       "4    A     23"
      ]
     },
     "execution_count": 5,
     "metadata": {},
     "output_type": "execute_result"
    }
   ],
   "source": [
    "depth_df.head()"
   ]
  },
  {
   "cell_type": "markdown",
   "id": "aa2d8344-2ad7-4068-b74e-3715a874905f",
   "metadata": {},
   "source": [
    "This is our 'dictionary' of zones - their top and base for each site. So, we want to use this to define where our depths are from the previous dataframe."
   ]
  },
  {
   "cell_type": "code",
   "execution_count": 6,
   "id": "9943e239-c634-4da1-ace3-309e802d3851",
   "metadata": {},
   "outputs": [
    {
     "data": {
      "text/html": [
       "<div>\n",
       "<style scoped>\n",
       "    .dataframe tbody tr th:only-of-type {\n",
       "        vertical-align: middle;\n",
       "    }\n",
       "\n",
       "    .dataframe tbody tr th {\n",
       "        vertical-align: top;\n",
       "    }\n",
       "\n",
       "    .dataframe thead th {\n",
       "        text-align: right;\n",
       "    }\n",
       "</style>\n",
       "<table border=\"1\" class=\"dataframe\">\n",
       "  <thead>\n",
       "    <tr style=\"text-align: right;\">\n",
       "      <th></th>\n",
       "      <th>Site</th>\n",
       "      <th>Zone</th>\n",
       "      <th>Top</th>\n",
       "      <th>Base</th>\n",
       "    </tr>\n",
       "  </thead>\n",
       "  <tbody>\n",
       "    <tr>\n",
       "      <th>0</th>\n",
       "      <td>A</td>\n",
       "      <td>A1</td>\n",
       "      <td>1</td>\n",
       "      <td>5</td>\n",
       "    </tr>\n",
       "    <tr>\n",
       "      <th>1</th>\n",
       "      <td>A</td>\n",
       "      <td>A2</td>\n",
       "      <td>5</td>\n",
       "      <td>10</td>\n",
       "    </tr>\n",
       "    <tr>\n",
       "      <th>2</th>\n",
       "      <td>A</td>\n",
       "      <td>A3</td>\n",
       "      <td>10</td>\n",
       "      <td>20</td>\n",
       "    </tr>\n",
       "    <tr>\n",
       "      <th>3</th>\n",
       "      <td>B</td>\n",
       "      <td>B1</td>\n",
       "      <td>50</td>\n",
       "      <td>100</td>\n",
       "    </tr>\n",
       "    <tr>\n",
       "      <th>4</th>\n",
       "      <td>B</td>\n",
       "      <td>B2</td>\n",
       "      <td>100</td>\n",
       "      <td>200</td>\n",
       "    </tr>\n",
       "  </tbody>\n",
       "</table>\n",
       "</div>"
      ],
      "text/plain": [
       "  Site Zone  Top  Base\n",
       "0    A   A1    1     5\n",
       "1    A   A2    5    10\n",
       "2    A   A3   10    20\n",
       "3    B   B1   50   100\n",
       "4    B   B2  100   200"
      ]
     },
     "execution_count": 6,
     "metadata": {},
     "output_type": "execute_result"
    }
   ],
   "source": [
    "range_df.head()"
   ]
  },
  {
   "cell_type": "markdown",
   "id": "20af0e39-8cd6-4b8a-9d42-8b9aaff2a13f",
   "metadata": {},
   "source": [
    "There are also other ways of seeing what headers we have available to use - this example simply prints all of our headers out for both dataframes."
   ]
  },
  {
   "cell_type": "code",
   "execution_count": 7,
   "id": "6f8b0422-a292-4850-98ee-3bd99f9d98bc",
   "metadata": {},
   "outputs": [
    {
     "name": "stdout",
     "output_type": "stream",
     "text": [
      "Depth Columns\n",
      "Site\n",
      "Depth\n",
      "Range Columns\n",
      "Site\n",
      "Zone\n",
      "Top\n",
      "Base\n"
     ]
    }
   ],
   "source": [
    "# Print statement to allow user to see column names and match nomenclature\n",
    "print('Depth Columns')\n",
    "for col in depth_df.columns:\n",
    "    print(col)\n",
    "print('Range Columns')\n",
    "for col in range_df.columns:\n",
    "    print(col)"
   ]
  },
  {
   "cell_type": "markdown",
   "id": "90f931ff-188e-4069-abb3-505b743a46fb",
   "metadata": {},
   "source": [
    "## Index Data"
   ]
  },
  {
   "cell_type": "markdown",
   "id": "571f2939-8a75-4e3c-9194-a3fee4faf759",
   "metadata": {},
   "source": [
    "Let's begin with assigning our depths a zone for each site. First, we can define a function to carry this out."
   ]
  },
  {
   "cell_type": "code",
   "execution_count": 8,
   "id": "8e00e265-b5c1-45bb-b9df-cda9b927862b",
   "metadata": {},
   "outputs": [],
   "source": [
    "# Function to assign zones based on a top and base depth\n",
    "def assign_zone(depth, site, range_df):\n",
    "    \n",
    "    site_zone_depths = range_df[range_df['Site'] == site] # Filter only on rows for each site in ranges_df\n",
    "    \n",
    "    for _, row in site_zone_depths.iterrows(): # For each row in site_zone_depths\n",
    "        if row['Top'] <= depth <= row['Base']:\n",
    "            return row['Zone'] # If found, return the zone"
   ]
  },
  {
   "cell_type": "markdown",
   "id": "da7acad6-3983-4e08-bb73-a56e9eac783e",
   "metadata": {},
   "source": [
    "Now we have a function to carry out our zone assignment to each depth, we need some way of storing this new data, and we need to carry out the function on our depth data."
   ]
  },
  {
   "cell_type": "code",
   "execution_count": 9,
   "id": "f8215c7a-1baf-41e6-a299-e07f35dbc4d4",
   "metadata": {},
   "outputs": [],
   "source": [
    "zones = [] # Empty list to store zones for later output\n",
    "\n",
    "for _, row in depth_df.iterrows(): # For all rows in our depth dataframe\n",
    "    zone = assign_zone(row['Depth'], row['Site'], range_df)\n",
    "    zones.append(zone)\n",
    "\n",
    "depth_df['Zone'] = zones # Create new column in depth dataframe\n",
    "\n",
    "depth_df.to_excel(r'Assigned_Zones.xlsx', index=False) # Output to excel"
   ]
  },
  {
   "cell_type": "markdown",
   "id": "a1508bbe-9ee6-4c70-98ef-7775b8732d44",
   "metadata": {},
   "source": [
    "Peeking at our new depth dataframe subsequently gives us the following:"
   ]
  },
  {
   "cell_type": "code",
   "execution_count": 11,
   "id": "3b4070c4-0738-4897-88e2-7ec7b45ac0b7",
   "metadata": {},
   "outputs": [
    {
     "data": {
      "text/html": [
       "<div>\n",
       "<style scoped>\n",
       "    .dataframe tbody tr th:only-of-type {\n",
       "        vertical-align: middle;\n",
       "    }\n",
       "\n",
       "    .dataframe tbody tr th {\n",
       "        vertical-align: top;\n",
       "    }\n",
       "\n",
       "    .dataframe thead th {\n",
       "        text-align: right;\n",
       "    }\n",
       "</style>\n",
       "<table border=\"1\" class=\"dataframe\">\n",
       "  <thead>\n",
       "    <tr style=\"text-align: right;\">\n",
       "      <th></th>\n",
       "      <th>Site</th>\n",
       "      <th>Depth</th>\n",
       "      <th>Zone</th>\n",
       "    </tr>\n",
       "  </thead>\n",
       "  <tbody>\n",
       "    <tr>\n",
       "      <th>0</th>\n",
       "      <td>A</td>\n",
       "      <td>1</td>\n",
       "      <td>A1</td>\n",
       "    </tr>\n",
       "    <tr>\n",
       "      <th>1</th>\n",
       "      <td>A</td>\n",
       "      <td>3</td>\n",
       "      <td>A1</td>\n",
       "    </tr>\n",
       "    <tr>\n",
       "      <th>2</th>\n",
       "      <td>A</td>\n",
       "      <td>5</td>\n",
       "      <td>A1</td>\n",
       "    </tr>\n",
       "    <tr>\n",
       "      <th>3</th>\n",
       "      <td>A</td>\n",
       "      <td>61</td>\n",
       "      <td>None</td>\n",
       "    </tr>\n",
       "    <tr>\n",
       "      <th>4</th>\n",
       "      <td>A</td>\n",
       "      <td>23</td>\n",
       "      <td>None</td>\n",
       "    </tr>\n",
       "  </tbody>\n",
       "</table>\n",
       "</div>"
      ],
      "text/plain": [
       "  Site  Depth  Zone\n",
       "0    A      1    A1\n",
       "1    A      3    A1\n",
       "2    A      5    A1\n",
       "3    A     61  None\n",
       "4    A     23  None"
      ]
     },
     "execution_count": 11,
     "metadata": {},
     "output_type": "execute_result"
    }
   ],
   "source": [
    "depth_df.head() # Optional print step to check outputs"
   ]
  },
  {
   "cell_type": "code",
   "execution_count": null,
   "id": "d69a8419-e75d-41a8-a1c9-2aa9197925a4",
   "metadata": {},
   "outputs": [],
   "source": []
  }
 ],
 "metadata": {
  "kernelspec": {
   "display_name": "Python 3 (ipykernel)",
   "language": "python",
   "name": "python3"
  },
  "language_info": {
   "codemirror_mode": {
    "name": "ipython",
    "version": 3
   },
   "file_extension": ".py",
   "mimetype": "text/x-python",
   "name": "python",
   "nbconvert_exporter": "python",
   "pygments_lexer": "ipython3",
   "version": "3.12.0"
  }
 },
 "nbformat": 4,
 "nbformat_minor": 5
}
