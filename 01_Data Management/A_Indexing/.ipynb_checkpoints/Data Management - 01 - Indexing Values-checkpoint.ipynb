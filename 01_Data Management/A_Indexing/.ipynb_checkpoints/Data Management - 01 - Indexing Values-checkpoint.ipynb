{
 "cells": [
  {
   "cell_type": "markdown",
   "id": "7f69e4b6-206e-4383-9273-ab062bac0e6f",
   "metadata": {},
   "source": [
    "# Indexing & Binning Data\n",
    "\n",
    "Author: Connor Doyle\n",
    "\n",
    "Purpose: Binning data according to pre-defined ranges.\n",
    "\n",
    "Examples/Use Case: Assigning the names of formations to depths from a well."
   ]
  },
  {
   "cell_type": "markdown",
   "id": "06172a94-fe33-455f-8424-83679249ae90",
   "metadata": {},
   "source": [
    "## Loading data to a dataframe "
   ]
  },
  {
   "cell_type": "markdown",
   "id": "0268b515-d7e3-4c7b-a418-57534601d53c",
   "metadata": {},
   "source": [
    "Data are loaded here from either an Excel or csv file. The conditional statements below are written such that the pandas read function used will change depending on the filetype."
   ]
  },
  {
   "cell_type": "code",
   "execution_count": 8,
   "id": "72cdd564-6b24-4a9a-ba37-4d81a8242b94",
   "metadata": {},
   "outputs": [
    {
     "name": "stdout",
     "output_type": "stream",
     "text": [
      "Dictionary.xlsx loaded from Excel\n",
      "Data.xlsx loaded from Excel\n"
     ]
    }
   ],
   "source": [
    "import pandas as pd\n",
    "\n",
    "### Filepath Definition ###\n",
    "depth_data = 'Data.xlsx'\n",
    "range_data = 'Dictionary.xlsx'\n",
    "\n",
    "### Filetype Handling ###\n",
    "\n",
    "# If statement for dealing with multiple filetypes. .las filetype handling to be added in future revision\n",
    "if range_data.endswith('csv'):\n",
    "    print(f'{range_data} loaded from csv')\n",
    "    range_df = pd.read_csv(f'{range_data}')\n",
    "elif range_data.endswith('xlsx'):\n",
    "    print(f'{range_data} loaded from Excel')\n",
    "    range_df = pd.read_excel(f'{range_data}')\n",
    "# elif '.las' in file:\n",
    "\n",
    "if depth_data.endswith('csv'):\n",
    "    print(f'{depth_data} loaded from csv')\n",
    "    depth_df = pd.read_csv(f'{depth_data}')\n",
    "elif depth_data.endswith('xlsx'):\n",
    "    print(f'{depth_data} loaded from Excel')\n",
    "    depth_df = pd.read_excel(f'{depth_data}')\n",
    "# elif '.las' in file:"
   ]
  },
  {
   "cell_type": "markdown",
   "id": "361d65bb-bc60-44fa-8806-15ed7ee876f6",
   "metadata": {},
   "source": [
    "## Display column names for use in input"
   ]
  },
  {
   "cell_type": "code",
   "execution_count": 17,
   "id": "e5cef849-f606-4298-822a-6431df340418",
   "metadata": {},
   "outputs": [
    {
     "name": "stdout",
     "output_type": "stream",
     "text": [
      "Site\n",
      "Depth\n",
      "Site\n",
      "Hierarchy\n",
      "Top\n",
      "Base\n"
     ]
    }
   ],
   "source": [
    "# Print statement to allow user to see column names and match nomenclature\n",
    "for col in depth_df.columns:\n",
    "    print(col)\n",
    "\n",
    "for col in range_df.columns:\n",
    "    print(col)"
   ]
  },
  {
   "cell_type": "markdown",
   "id": "90f931ff-188e-4069-abb3-505b743a46fb",
   "metadata": {},
   "source": [
    "## Bin Data"
   ]
  },
  {
   "cell_type": "code",
   "execution_count": null,
   "id": "9f024dac-69a8-4d1b-a73f-ac4d87ab64f2",
   "metadata": {},
   "outputs": [],
   "source": []
  }
 ],
 "metadata": {
  "kernelspec": {
   "display_name": "Python 3 (ipykernel)",
   "language": "python",
   "name": "python3"
  },
  "language_info": {
   "codemirror_mode": {
    "name": "ipython",
    "version": 3
   },
   "file_extension": ".py",
   "mimetype": "text/x-python",
   "name": "python",
   "nbconvert_exporter": "python",
   "pygments_lexer": "ipython3",
   "version": "3.9.19"
  }
 },
 "nbformat": 4,
 "nbformat_minor": 5
}
