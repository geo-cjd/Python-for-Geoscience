{
 "cells": [
  {
   "cell_type": "markdown",
   "id": "850cd048-301a-407c-a127-260fce07015b",
   "metadata": {},
   "source": [
    "# *Python for Geoscience*\n",
    "\n",
    "## 01 - Data Management\n",
    "\n",
    "### B - Managing & Moving Files\n",
    "\n",
    "Author: Connor Doyle\n",
    "\n",
    "Purpose: Listing and bulk moving files of various formats.\n",
    "\n",
    "Examples/Use Case: Moving multiple petrographic images from multiple folders to one folder."
   ]
  },
  {
   "cell_type": "markdown",
   "id": "c29b8223-7d44-4633-aa5d-006f6b8c2f42",
   "metadata": {},
   "source": [
    "## Import libraries"
   ]
  },
  {
   "cell_type": "code",
   "execution_count": null,
   "id": "1c79bf30-d264-45e4-bf30-86e2bc1bfe47",
   "metadata": {},
   "outputs": [],
   "source": [
    "import pandas as pd\n",
    "import os\n",
    "import shutil"
   ]
  },
  {
   "cell_type": "markdown",
   "id": "ba7977a2-a5d5-4ea6-80b3-e991fc97820a",
   "metadata": {},
   "source": [
    "## Defining filepaths and filetypes"
   ]
  },
  {
   "cell_type": "code",
   "execution_count": null,
   "id": "10c1cbae-3cba-4a71-a014-89eeb3afc2e8",
   "metadata": {},
   "outputs": [],
   "source": [
    "folder_path = r'C:\\Users\\conno\\Python'\n",
    "\n",
    "filetype = '.jpg'\n",
    "\n",
    "output_excel = r'path_to_excel'\n",
    "\n",
    "output_path = r'path_to_output'"
   ]
  },
  {
   "cell_type": "markdown",
   "id": "76d8931b-ad0f-4f41-9bda-94668038983f",
   "metadata": {},
   "source": [
    "## List files to get an overview"
   ]
  },
  {
   "cell_type": "code",
   "execution_count": null,
   "id": "5aaacfa1-99ea-4be1-b54a-a3e1117e7ad3",
   "metadata": {},
   "outputs": [],
   "source": [
    "file_list = []\n",
    "\n",
    "for path, dirs, files in os.walk(folder_path):\n",
    "    for file in files:\n",
    "        print(os.path.join(path, file))\n",
    "\n",
    "file_data = {'Filepath]':file_list}\n",
    "df = pd.DataFrame(file_data)\n",
    "df.to_excel(r'output.xlsx')"
   ]
  },
  {
   "cell_type": "markdown",
   "id": "e8dc3b86-53bc-4bac-9c2a-3012a2045ce2",
   "metadata": {},
   "source": [
    "## Moving files"
   ]
  },
  {
   "cell_type": "code",
   "execution_count": null,
   "id": "830c9040-580b-4b90-a878-4e38be8e712e",
   "metadata": {},
   "outputs": [],
   "source": [
    "for root, dirs, files in os.walk(folder_path):\n",
    "    for file in files:\n",
    "        if name.endswith(filetype):\n",
    "            shutil.copy2(folder_path, output_path)"
   ]
  }
 ],
 "metadata": {
  "kernelspec": {
   "display_name": "Python 3 (ipykernel)",
   "language": "python",
   "name": "python3"
  },
  "language_info": {
   "codemirror_mode": {
    "name": "ipython",
    "version": 3
   },
   "file_extension": ".py",
   "mimetype": "text/x-python",
   "name": "python",
   "nbconvert_exporter": "python",
   "pygments_lexer": "ipython3",
   "version": "3.12.0"
  }
 },
 "nbformat": 4,
 "nbformat_minor": 5
}
