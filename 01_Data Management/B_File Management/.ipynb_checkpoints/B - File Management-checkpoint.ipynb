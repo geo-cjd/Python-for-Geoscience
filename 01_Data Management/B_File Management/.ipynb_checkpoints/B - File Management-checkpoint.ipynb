{
 "cells": [
  {
   "cell_type": "markdown",
   "id": "850cd048-301a-407c-a127-260fce07015b",
   "metadata": {},
   "source": [
    "# *Python for Geoscience*\n",
    "\n",
    "## 01 - Data Management\n",
    "\n",
    "### B - Managing & Moving Files\n",
    "\n",
    "Author: Connor Doyle\n",
    "\n",
    "Purpose: Listing and bulk moving files of various formats.\n",
    "\n",
    "Examples/Use Case: Moving multiple petrographic images from multiple folders to one folder."
   ]
  },
  {
   "cell_type": "markdown",
   "id": "c29b8223-7d44-4633-aa5d-006f6b8c2f42",
   "metadata": {},
   "source": [
    "## Import libraries"
   ]
  },
  {
   "cell_type": "code",
   "execution_count": null,
   "id": "1c79bf30-d264-45e4-bf30-86e2bc1bfe47",
   "metadata": {},
   "outputs": [],
   "source": [
    "import pandas as pd"
   ]
  },
  {
   "cell_type": "markdown",
   "id": "ba7977a2-a5d5-4ea6-80b3-e991fc97820a",
   "metadata": {},
   "source": [
    "## Defining filepaths and filetypes"
   ]
  },
  {
   "cell_type": "code",
   "execution_count": null,
   "id": "10c1cbae-3cba-4a71-a014-89eeb3afc2e8",
   "metadata": {},
   "outputs": [],
   "source": [
    "folder_path = r'path_to_folder'\n",
    "\n",
    "filetype = '.jpg'"
   ]
  },
  {
   "cell_type": "code",
   "execution_count": null,
   "id": "df97b259-08e7-4107-a110-8eb3b048a5b1",
   "metadata": {},
   "outputs": [],
   "source": []
  },
  {
   "cell_type": "code",
   "execution_count": null,
   "id": "830c9040-580b-4b90-a878-4e38be8e712e",
   "metadata": {},
   "outputs": [],
   "source": []
  },
  {
   "cell_type": "code",
   "execution_count": null,
   "id": "1db8abdf-2e0e-41fb-bd55-a5a47a74a776",
   "metadata": {},
   "outputs": [],
   "source": []
  },
  {
   "cell_type": "code",
   "execution_count": null,
   "id": "c45fbc6a-46d9-4bfb-987c-0d9481cb38a3",
   "metadata": {},
   "outputs": [],
   "source": []
  }
 ],
 "metadata": {
  "kernelspec": {
   "display_name": "Python 3 (ipykernel)",
   "language": "python",
   "name": "python3"
  },
  "language_info": {
   "codemirror_mode": {
    "name": "ipython",
    "version": 3
   },
   "file_extension": ".py",
   "mimetype": "text/x-python",
   "name": "python",
   "nbconvert_exporter": "python",
   "pygments_lexer": "ipython3",
   "version": "3.12.0"
  }
 },
 "nbformat": 4,
 "nbformat_minor": 5
}
